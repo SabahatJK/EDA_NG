{
 "cells": [
  {
   "cell_type": "code",
   "execution_count": 1,
   "metadata": {},
   "outputs": [],
   "source": [
    "%run -i helper_functions.py"
   ]
  },
  {
   "cell_type": "code",
   "execution_count": 10,
   "metadata": {},
   "outputs": [],
   "source": [
    "# Initial imports\n",
    "import os\n",
    "import requests\n",
    "import pandas as pd\n",
    "import numpy as np\n",
    "from sklearn.linear_model import LinearRegression\n",
    "import datetime as dt\n",
    "from pathlib import Path\n",
    "import yfinance as yf\n",
    "from helper_functions import *\n",
    "from dotenv import load_dotenv\n",
    "import json\n",
    "%matplotlib inline"
   ]
  },
  {
   "cell_type": "code",
   "execution_count": 3,
   "metadata": {},
   "outputs": [],
   "source": [
    "# Load .env enviroment variables\n",
    "load_dotenv(r\"C:\\Users\\dredm\\Desktop\\Daryl\\Fintech_Bootcamp\\Git_Repos\\Project-1.env\")\n",
    "eia_api_key = os.getenv(\"EIA_API_KEY\")\n",
    "\n",
    "# dates to get data \n",
    "#end_date = date.today()\n",
    "#start_date = end_date -  relativedelta(years=11)\n",
    "#start_date\n",
    "\n",
    "start_date = \"2010-01-01\"\n",
    "end_date = \"2014-12-30\""
   ]
  },
  {
   "cell_type": "code",
   "execution_count": 4,
   "metadata": {},
   "outputs": [
    {
     "data": {
      "text/html": [
       "<div>\n",
       "<style scoped>\n",
       "    .dataframe tbody tr th:only-of-type {\n",
       "        vertical-align: middle;\n",
       "    }\n",
       "\n",
       "    .dataframe tbody tr th {\n",
       "        vertical-align: top;\n",
       "    }\n",
       "\n",
       "    .dataframe thead th {\n",
       "        text-align: right;\n",
       "    }\n",
       "</style>\n",
       "<table border=\"1\" class=\"dataframe\">\n",
       "  <thead>\n",
       "    <tr style=\"text-align: right;\">\n",
       "      <th></th>\n",
       "      <th>Maximum</th>\n",
       "      <th>Minimum</th>\n",
       "      <th>Average</th>\n",
       "    </tr>\n",
       "    <tr>\n",
       "      <th>Date</th>\n",
       "      <th></th>\n",
       "      <th></th>\n",
       "      <th></th>\n",
       "    </tr>\n",
       "  </thead>\n",
       "  <tbody>\n",
       "    <tr>\n",
       "      <th>2010-01-01</th>\n",
       "      <td>34</td>\n",
       "      <td>20</td>\n",
       "      <td>27.0</td>\n",
       "    </tr>\n",
       "    <tr>\n",
       "      <th>2010-01-02</th>\n",
       "      <td>20</td>\n",
       "      <td>8</td>\n",
       "      <td>14.0</td>\n",
       "    </tr>\n",
       "    <tr>\n",
       "      <th>2010-01-03</th>\n",
       "      <td>18</td>\n",
       "      <td>6</td>\n",
       "      <td>12.0</td>\n",
       "    </tr>\n",
       "    <tr>\n",
       "      <th>2010-01-04</th>\n",
       "      <td>23</td>\n",
       "      <td>16</td>\n",
       "      <td>19.5</td>\n",
       "    </tr>\n",
       "    <tr>\n",
       "      <th>2010-01-05</th>\n",
       "      <td>24</td>\n",
       "      <td>19</td>\n",
       "      <td>21.5</td>\n",
       "    </tr>\n",
       "  </tbody>\n",
       "</table>\n",
       "</div>"
      ],
      "text/plain": [
       "            Maximum  Minimum  Average\n",
       "Date                                 \n",
       "2010-01-01       34       20     27.0\n",
       "2010-01-02       20        8     14.0\n",
       "2010-01-03       18        6     12.0\n",
       "2010-01-04       23       16     19.5\n",
       "2010-01-05       24       19     21.5"
      ]
     },
     "execution_count": 4,
     "metadata": {},
     "output_type": "execute_result"
    }
   ],
   "source": [
    "# Reading Temperature data and convert it to dataframe\n",
    "#Data cleanup\n",
    "# Reading whale returns\n",
    "df_weather = weather_data(r\"Data\\Pittsburg_Area_Temp_2010-2014.csv\")\n",
    "df_weather.head()\n",
    "\n",
    "\n"
   ]
  },
  {
   "cell_type": "code",
   "execution_count": 5,
   "metadata": {},
   "outputs": [
    {
     "data": {
      "text/html": [
       "<div>\n",
       "<style scoped>\n",
       "    .dataframe tbody tr th:only-of-type {\n",
       "        vertical-align: middle;\n",
       "    }\n",
       "\n",
       "    .dataframe tbody tr th {\n",
       "        vertical-align: top;\n",
       "    }\n",
       "\n",
       "    .dataframe thead th {\n",
       "        text-align: right;\n",
       "    }\n",
       "</style>\n",
       "<table border=\"1\" class=\"dataframe\">\n",
       "  <thead>\n",
       "    <tr style=\"text-align: right;\">\n",
       "      <th></th>\n",
       "      <th>Close</th>\n",
       "    </tr>\n",
       "    <tr>\n",
       "      <th>Date</th>\n",
       "      <th></th>\n",
       "    </tr>\n",
       "  </thead>\n",
       "  <tbody>\n",
       "    <tr>\n",
       "      <th>2010-01-04</th>\n",
       "      <td>5.884</td>\n",
       "    </tr>\n",
       "    <tr>\n",
       "      <th>2010-01-05</th>\n",
       "      <td>5.637</td>\n",
       "    </tr>\n",
       "    <tr>\n",
       "      <th>2010-01-06</th>\n",
       "      <td>6.009</td>\n",
       "    </tr>\n",
       "    <tr>\n",
       "      <th>2010-01-07</th>\n",
       "      <td>5.806</td>\n",
       "    </tr>\n",
       "    <tr>\n",
       "      <th>2010-01-08</th>\n",
       "      <td>5.749</td>\n",
       "    </tr>\n",
       "    <tr>\n",
       "      <th>...</th>\n",
       "      <td>...</td>\n",
       "    </tr>\n",
       "    <tr>\n",
       "      <th>2014-12-22</th>\n",
       "      <td>3.144</td>\n",
       "    </tr>\n",
       "    <tr>\n",
       "      <th>2014-12-23</th>\n",
       "      <td>3.171</td>\n",
       "    </tr>\n",
       "    <tr>\n",
       "      <th>2014-12-26</th>\n",
       "      <td>3.007</td>\n",
       "    </tr>\n",
       "    <tr>\n",
       "      <th>2014-12-29</th>\n",
       "      <td>3.189</td>\n",
       "    </tr>\n",
       "    <tr>\n",
       "      <th>2014-12-30</th>\n",
       "      <td>3.094</td>\n",
       "    </tr>\n",
       "  </tbody>\n",
       "</table>\n",
       "<p>1246 rows × 1 columns</p>\n",
       "</div>"
      ],
      "text/plain": [
       "            Close\n",
       "Date             \n",
       "2010-01-04  5.884\n",
       "2010-01-05  5.637\n",
       "2010-01-06  6.009\n",
       "2010-01-07  5.806\n",
       "2010-01-08  5.749\n",
       "...           ...\n",
       "2014-12-22  3.144\n",
       "2014-12-23  3.171\n",
       "2014-12-26  3.007\n",
       "2014-12-29  3.189\n",
       "2014-12-30  3.094\n",
       "\n",
       "[1246 rows x 1 columns]"
      ]
     },
     "execution_count": 5,
     "metadata": {},
     "output_type": "execute_result"
    }
   ],
   "source": [
    "# Reading Natural gas data and convert it to dataframe\n",
    "#Data cleanup\n",
    "#describe()\n",
    "\n",
    "df_historic = yfinance_tickers_data(\"NG=F\", start_date, end_date)\n",
    "#df_historic = df_historic.drop([\"Open\", \"High\", \"Low\", \"Volume\", \"Dividends\", \"Stock Splits\" ], axis=1)\n",
    "df_historic"
   ]
  },
  {
   "cell_type": "code",
   "execution_count": null,
   "metadata": {},
   "outputs": [],
   "source": [
    "#Return close prices of Natural gas and Average temp \n",
    "\n"
   ]
  },
  {
   "cell_type": "code",
   "execution_count": 6,
   "metadata": {},
   "outputs": [
    {
     "data": {
      "text/plain": [
       "Close      0\n",
       "Maximum    0\n",
       "Minimum    0\n",
       "Average    0\n",
       "dtype: int64"
      ]
     },
     "metadata": {},
     "output_type": "display_data"
    },
    {
     "data": {
      "text/html": [
       "<div>\n",
       "<style scoped>\n",
       "    .dataframe tbody tr th:only-of-type {\n",
       "        vertical-align: middle;\n",
       "    }\n",
       "\n",
       "    .dataframe tbody tr th {\n",
       "        vertical-align: top;\n",
       "    }\n",
       "\n",
       "    .dataframe thead th {\n",
       "        text-align: right;\n",
       "    }\n",
       "</style>\n",
       "<table border=\"1\" class=\"dataframe\">\n",
       "  <thead>\n",
       "    <tr style=\"text-align: right;\">\n",
       "      <th></th>\n",
       "      <th>Close</th>\n",
       "      <th>Maximum</th>\n",
       "      <th>Minimum</th>\n",
       "      <th>Average</th>\n",
       "    </tr>\n",
       "    <tr>\n",
       "      <th>Date</th>\n",
       "      <th></th>\n",
       "      <th></th>\n",
       "      <th></th>\n",
       "      <th></th>\n",
       "    </tr>\n",
       "  </thead>\n",
       "  <tbody>\n",
       "    <tr>\n",
       "      <th>2010-01-04</th>\n",
       "      <td>5.884</td>\n",
       "      <td>23</td>\n",
       "      <td>16</td>\n",
       "      <td>19.5</td>\n",
       "    </tr>\n",
       "    <tr>\n",
       "      <th>2010-01-05</th>\n",
       "      <td>5.637</td>\n",
       "      <td>24</td>\n",
       "      <td>19</td>\n",
       "      <td>21.5</td>\n",
       "    </tr>\n",
       "    <tr>\n",
       "      <th>2010-01-06</th>\n",
       "      <td>6.009</td>\n",
       "      <td>26</td>\n",
       "      <td>22</td>\n",
       "      <td>24.0</td>\n",
       "    </tr>\n",
       "    <tr>\n",
       "      <th>2010-01-07</th>\n",
       "      <td>5.806</td>\n",
       "      <td>24</td>\n",
       "      <td>21</td>\n",
       "      <td>22.5</td>\n",
       "    </tr>\n",
       "    <tr>\n",
       "      <th>2010-01-08</th>\n",
       "      <td>5.749</td>\n",
       "      <td>23</td>\n",
       "      <td>11</td>\n",
       "      <td>17.0</td>\n",
       "    </tr>\n",
       "    <tr>\n",
       "      <th>...</th>\n",
       "      <td>...</td>\n",
       "      <td>...</td>\n",
       "      <td>...</td>\n",
       "      <td>...</td>\n",
       "    </tr>\n",
       "    <tr>\n",
       "      <th>2014-12-22</th>\n",
       "      <td>3.144</td>\n",
       "      <td>46</td>\n",
       "      <td>23</td>\n",
       "      <td>34.5</td>\n",
       "    </tr>\n",
       "    <tr>\n",
       "      <th>2014-12-23</th>\n",
       "      <td>3.171</td>\n",
       "      <td>53</td>\n",
       "      <td>39</td>\n",
       "      <td>46.0</td>\n",
       "    </tr>\n",
       "    <tr>\n",
       "      <th>2014-12-26</th>\n",
       "      <td>3.007</td>\n",
       "      <td>49</td>\n",
       "      <td>30</td>\n",
       "      <td>39.5</td>\n",
       "    </tr>\n",
       "    <tr>\n",
       "      <th>2014-12-29</th>\n",
       "      <td>3.189</td>\n",
       "      <td>36</td>\n",
       "      <td>25</td>\n",
       "      <td>30.5</td>\n",
       "    </tr>\n",
       "    <tr>\n",
       "      <th>2014-12-30</th>\n",
       "      <td>3.094</td>\n",
       "      <td>32</td>\n",
       "      <td>19</td>\n",
       "      <td>25.5</td>\n",
       "    </tr>\n",
       "  </tbody>\n",
       "</table>\n",
       "<p>1246 rows × 4 columns</p>\n",
       "</div>"
      ],
      "text/plain": [
       "            Close  Maximum  Minimum  Average\n",
       "Date                                        \n",
       "2010-01-04  5.884       23       16     19.5\n",
       "2010-01-05  5.637       24       19     21.5\n",
       "2010-01-06  6.009       26       22     24.0\n",
       "2010-01-07  5.806       24       21     22.5\n",
       "2010-01-08  5.749       23       11     17.0\n",
       "...           ...      ...      ...      ...\n",
       "2014-12-22  3.144       46       23     34.5\n",
       "2014-12-23  3.171       53       39     46.0\n",
       "2014-12-26  3.007       49       30     39.5\n",
       "2014-12-29  3.189       36       25     30.5\n",
       "2014-12-30  3.094       32       19     25.5\n",
       "\n",
       "[1246 rows x 4 columns]"
      ]
     },
     "execution_count": 6,
     "metadata": {},
     "output_type": "execute_result"
    }
   ],
   "source": [
    "#join close price of natural gas and Average temprature using concatenation\n",
    "\n",
    "df = pd.concat((df_historic, df_weather), join=\"inner\", axis=1 , sort=True).dropna()\n",
    "display(df.isnull().sum())\n",
    "df"
   ]
  },
  {
   "cell_type": "code",
   "execution_count": null,
   "metadata": {},
   "outputs": [],
   "source": [
    "#Find daily return of the two joined data frame\n",
    "# Drop nulls\n",
    "# Count nulls\n",
    "\n"
   ]
  },
  {
   "cell_type": "code",
   "execution_count": null,
   "metadata": {},
   "outputs": [],
   "source": [
    "#plot daily return of the close price of naturan gas and temprature\n",
    "#print out any similarities and differences between them\n",
    "## Box plot to visually show risk\n",
    "\n"
   ]
  },
  {
   "cell_type": "code",
   "execution_count": null,
   "metadata": {},
   "outputs": [],
   "source": [
    "# Calculate the daily standard deviations\n",
    "# Calculate the annualized standard deviation (252 trading days)\n",
    "\n"
   ]
  },
  {
   "cell_type": "code",
   "execution_count": null,
   "metadata": {},
   "outputs": [],
   "source": [
    "# Calculate rolling standard deviation\n",
    "\n",
    "# Plot rolling standard deviation\n",
    "\n"
   ]
  },
  {
   "cell_type": "code",
   "execution_count": null,
   "metadata": {},
   "outputs": [],
   "source": [
    "# Calculate and plot the correlation\n",
    "\n"
   ]
  },
  {
   "cell_type": "code",
   "execution_count": null,
   "metadata": {},
   "outputs": [],
   "source": [
    "# explation the correlation between Temp and Price of Natural gas\n"
   ]
  },
  {
   "cell_type": "code",
   "execution_count": 51,
   "metadata": {},
   "outputs": [
    {
     "name": "stdout",
     "output_type": "stream",
     "text": [
      "Coefficient of determination 0.020098304306998327\n",
      "Slope [-0.00562753]\n",
      "Intercept 4.14313914625356\n",
      "Predicted response:\n",
      "[4.03340222 4.02214715 4.00807831 ... 3.92085152 3.97149934 3.99963701]\n"
     ]
    }
   ],
   "source": [
    "# Linear regresssion with temp and natural gas prices\n",
    "# Pull out average temp and natural gas closing price from the df\n",
    "df_temp = df[\"Average\"]\n",
    "df_ng = df[\"Close\"]\n",
    "#drop the index from both so the arrays are 1-dimensional\n",
    "df_temp.reset_index(drop=True, inplace=True)\n",
    "df_ng.reset_index(drop=True, inplace=True)\n",
    "#assign independent variable (x) and dependent variable (y) to the proper dataframe\n",
    "#reshape the data frames to pandas arrays\n",
    "x = np.array(df_temp).reshape(-1,1)\n",
    "y = np.array(df_ng)\n",
    "#print(X)\n",
    "#create the model and fit it to the data\n",
    "model = LinearRegression()\n",
    "model.fit(x,y)\n",
    "r_sq = model.score(x,y)\n",
    "print(\"Coefficient of determination\", r_sq)\n",
    "print(\"Slope\", model.coef_)\n",
    "print(\"Intercept\", model.intercept_)\n",
    "y_pred = model.predict(x)\n",
    "print(\"Predicted response:\", y_pred, sep='\\n')"
   ]
  },
  {
   "cell_type": "code",
   "execution_count": 48,
   "metadata": {},
   "outputs": [
    {
     "name": "stdout",
     "output_type": "stream",
     "text": [
      "Coefficient of determination 0.00821062445110221\n"
     ]
    }
   ],
   "source": [
    "# Linear regresssion with percent change in temp and natural gas prices\n",
    "#convert dataframe to percent change\n",
    "df_pct_change = df.pct_change().dropna()\n",
    "# Pull out average temp and natural gas closing price from the df\n",
    "df_pct_chg_temp = df_pct_change[\"Average\"]\n",
    "df_pct_chg_ng = df_pct_change[\"Close\"]\n",
    "#drop the index from both so the arrays are 1-dimensional\n",
    "df_pct_chg_temp.reset_index(drop=True, inplace=True)\n",
    "df_pct_chg_ng.reset_index(drop=True, inplace=True)\n",
    "#assign independent variable (x) and dependent variable (y) to the proper dataframe\n",
    "#reshape the data frames to pandas arrays\n",
    "x = np.array(df_pct_chg_temp).reshape(-1,1)\n",
    "y = np.array(df_pct_chg_ng)\n",
    "#print(x)\n",
    "#create the model and fit it to the data\n",
    "model = LinearRegression()\n",
    "model.fit(x,y)\n",
    "r_sq = model.score(x,y)\n",
    "print(\"Coefficient of determination\", r_sq)"
   ]
  },
  {
   "cell_type": "code",
   "execution_count": null,
   "metadata": {},
   "outputs": [],
   "source": [
    "%run -i helper_functions.py"
   ]
  }
 ],
 "metadata": {
  "file_extension": ".py",
  "kernelspec": {
   "display_name": "Python 3",
   "language": "python",
   "name": "python3"
  },
  "language_info": {
   "codemirror_mode": {
    "name": "ipython",
    "version": 3
   },
   "file_extension": ".py",
   "mimetype": "text/x-python",
   "name": "python",
   "nbconvert_exporter": "python",
   "pygments_lexer": "ipython3",
   "version": "3.7.9"
  },
  "mimetype": "text/x-python",
  "name": "python",
  "npconvert_exporter": "python",
  "pygments_lexer": "ipython3",
  "version": 3
 },
 "nbformat": 4,
 "nbformat_minor": 4
}
